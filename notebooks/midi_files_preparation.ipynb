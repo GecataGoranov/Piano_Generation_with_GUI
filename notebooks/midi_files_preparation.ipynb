{
 "cells": [
  {
   "cell_type": "code",
   "execution_count": 1,
   "id": "e57c5a29-ea73-48fd-93e5-7c82739cfab1",
   "metadata": {},
   "outputs": [
    {
     "name": "stderr",
     "output_type": "stream",
     "text": [
      "/home/gecata/anaconda3/envs/piano_generation/lib/python3.12/site-packages/torch/utils/_pytree.py:185: FutureWarning: optree is installed but the version is too old to support PyTorch Dynamo in C++ pytree. C++ pytree support is disabled. Please consider upgrading optree using `python3 -m pip install --upgrade 'optree>=0.13.0'`.\n",
      "  warnings.warn(\n"
     ]
    }
   ],
   "source": [
    "import miditok\n",
    "import pandas as pd\n",
    "import os\n",
    "import pickle\n",
    "import shutil\n",
    "import gc\n",
    "\n",
    "from miditoolkit import MidiFile\n",
    "from miditok import REMI, TokenizerConfig\n",
    "from miditok.pytorch_data import DatasetMIDI, DataCollator\n",
    "from miditok.data_augmentation import augment_dataset\n",
    "from torch.utils.data import DataLoader\n",
    "from pathlib import Path\n",
    "from tqdm import tqdm"
   ]
  },
  {
   "cell_type": "markdown",
   "id": "5e7cd9ad-c771-4ebc-b2d0-bad740bd2472",
   "metadata": {},
   "source": [
    "In this notebook, we perform augmentation of the MIDI files locally, due to the slow I/O operations on Google Colab. We begin by creating a list, containing all of the MIDI file paths for training, as well as a directory for the augmented files."
   ]
  },
  {
   "cell_type": "code",
   "execution_count": 7,
   "id": "96fd5f6c-ae03-448f-8499-6a05d786d77a",
   "metadata": {
    "scrolled": true
   },
   "outputs": [],
   "source": [
    "root_midi_folder = Path(\"../MAESTRO dataset/maestro-v3.0.0-midi/maestro-v3.0.0\")"
   ]
  },
  {
   "cell_type": "code",
   "execution_count": 8,
   "id": "05f99884-6c13-48f1-968e-bfbcc2d03913",
   "metadata": {},
   "outputs": [],
   "source": [
    "augmented_out_path = Path(\"../saved_data/datasets/train/augmented\")\n",
    "augmented_out_path.mkdir(parents=True, exist_ok=True)"
   ]
  },
  {
   "cell_type": "code",
   "execution_count": 9,
   "id": "f8905215-97ae-4888-92f2-a0035f12dc0f",
   "metadata": {},
   "outputs": [],
   "source": [
    "midi_paths_train = []\n",
    "\n",
    "for filename in metadata[metadata[\"split\"] == \"train\"][\"midi_filename\"]:\n",
    "    found_files = list(root_midi_folder.rglob(filename))\n",
    "    if found_files:\n",
    "        midi_paths_train.append(str(found_files[0]))"
   ]
  },
  {
   "cell_type": "code",
   "execution_count": 10,
   "id": "27ba9ba8-5b2f-4631-b3f2-a7ee6c0740df",
   "metadata": {},
   "outputs": [],
   "source": [
    "train_temp_dir = Path(\"../MAESTRO dataset/train_temp\")\n",
    "train_temp_dir.mkdir(parents=True, exist_ok=True)\n",
    "\n",
    "for file_path in midi_paths_train:\n",
    "    shutil.copy(file_path, train_temp_dir)"
   ]
  },
  {
   "cell_type": "markdown",
   "id": "5149a5ce-bf31-45d4-bd98-9aaeab1eb02c",
   "metadata": {},
   "source": [
    "After we've got this set up, it's time to perform the augmentation itself. For this we are using MidiTok's `augment_dataset()` function with the configuration shown below:"
   ]
  },
  {
   "cell_type": "code",
   "execution_count": 11,
   "id": "6e9f4820-267e-422c-bbbc-75f23ede21f5",
   "metadata": {},
   "outputs": [
    {
     "name": "stderr",
     "output_type": "stream",
     "text": [
      "Performing data augmentation: 100%|█████████████████████████████████████████████████████████████████████████████████████████████████████████████████████████████████████████████████████████████████████████| 962/962 [00:09<00:00, 99.09it/s]\n"
     ]
    }
   ],
   "source": [
    "augment_dataset(\n",
    "    data_path=train_temp_dir,\n",
    "    pitch_offsets=[-12, 12],\n",
    "    velocity_offsets=[-4, 5],\n",
    "    duration_offsets=[-0.5, 1],\n",
    "    out_path=augmented_out_path\n",
    ")"
   ]
  },
  {
   "cell_type": "markdown",
   "id": "7a7dbc05-3db3-492c-a77b-a3a41e1f6f23",
   "metadata": {},
   "source": [
    "Now the only thing that's left is to fill in the file path list for the augmented data and then combine it into one big list:"
   ]
  },
  {
   "cell_type": "code",
   "execution_count": 12,
   "id": "d6724121-5f22-4812-9a1e-d3747aceaa63",
   "metadata": {},
   "outputs": [],
   "source": [
    "augmented_midi_files = [str(p) for p in augmented_out_path.glob(\"*.midi\")]"
   ]
  },
  {
   "cell_type": "code",
   "execution_count": 13,
   "id": "46178181-ed4e-4dcd-92b5-b393e1f137ca",
   "metadata": {},
   "outputs": [],
   "source": [
    "combined_train_files = midi_paths_train + augmented_midi_files"
   ]
  },
  {
   "cell_type": "code",
   "execution_count": null,
   "id": "a0783f51-ea52-4d79-aaa0-60f78f662225",
   "metadata": {},
   "outputs": [],
   "source": []
  }
 ],
 "metadata": {
  "kernelspec": {
   "display_name": "Python 3 (ipykernel)",
   "language": "python",
   "name": "python3"
  },
  "language_info": {
   "codemirror_mode": {
    "name": "ipython",
    "version": 3
   },
   "file_extension": ".py",
   "mimetype": "text/x-python",
   "name": "python",
   "nbconvert_exporter": "python",
   "pygments_lexer": "ipython3",
   "version": "3.12.4"
  }
 },
 "nbformat": 4,
 "nbformat_minor": 5
}
